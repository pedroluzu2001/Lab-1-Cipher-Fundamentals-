{
  "nbformat": 4,
  "nbformat_minor": 0,
  "metadata": {
    "colab": {
      "provenance": []
    },
    "kernelspec": {
      "name": "python3",
      "display_name": "Python 3"
    },
    "language_info": {
      "name": "python"
    }
  },
  "cells": [
    {
      "cell_type": "code",
      "source": [
        "\n",
        "print (53431 % 453)"
      ],
      "metadata": {
        "colab": {
          "base_uri": "https://localhost:8080/"
        },
        "id": "jmnT1fjngTdo",
        "outputId": "b81eff84-9a50-4e29-f024-756a46d8e9e4"
      },
      "execution_count": 1,
      "outputs": [
        {
          "output_type": "stream",
          "name": "stdout",
          "text": [
            "430\n"
          ]
        }
      ]
    },
    {
      "cell_type": "code",
      "source": [
        "print (0x43 | 0x21)\n",
        "print (0x43 & 0x21)\n",
        "print (0x43 ^ 0x21)"
      ],
      "metadata": {
        "colab": {
          "base_uri": "https://localhost:8080/"
        },
        "id": "iw3NmH1TiHdW",
        "outputId": "f52c40e0-e9ad-48a5-b1a8-1682527c4065"
      },
      "execution_count": 2,
      "outputs": [
        {
          "output_type": "stream",
          "name": "stdout",
          "text": [
            "99\n",
            "1\n",
            "98\n"
          ]
        }
      ]
    },
    {
      "cell_type": "code",
      "source": [
        "\n",
        "val1=93\n",
        "print (\"Dec:\\t\",val1)\n",
        "print (\"Bin:\\t\",bin(val1))\n",
        "print (\"Hex:\\t\",hex(val1))\n",
        "print (\"Oct:\\t\",oct(val1))\n",
        "print (\"Char:\\t\",chr(val1))"
      ],
      "metadata": {
        "colab": {
          "base_uri": "https://localhost:8080/"
        },
        "id": "YCkocFF3kOdf",
        "outputId": "4b9aded3-8175-4898-fc47-72c9bda7c440"
      },
      "execution_count": 3,
      "outputs": [
        {
          "output_type": "stream",
          "name": "stdout",
          "text": [
            "Dec:\t 93\n",
            "Bin:\t 0b1011101\n",
            "Hex:\t 0x5d\n",
            "Oct:\t 0o135\n",
            "Char:\t ]\n"
          ]
        }
      ]
    },
    {
      "cell_type": "code",
      "source": [
        "import base64\n",
        "\n",
        "# Definir la cadena\n",
        "str = \"crypto1\"\n",
        "\n",
        "# Codificar la cadena a bytes y luego a Base-64\n",
        "encoded_str = base64.b64encode(str.encode())\n",
        "\n",
        "# Imprimir el resultado como una cadena de texto\n",
        "print(encoded_str.decode())\n"
      ],
      "metadata": {
        "colab": {
          "base_uri": "https://localhost:8080/"
        },
        "id": "K237MITPk1Dd",
        "outputId": "8ffcdbd7-0982-46a2-bce0-7caa189552cb"
      },
      "execution_count": 5,
      "outputs": [
        {
          "output_type": "stream",
          "name": "stdout",
          "text": [
            "Y3J5cHRvMQ==\n"
          ]
        }
      ]
    },
    {
      "cell_type": "code",
      "source": [
        "# Valor inicial\n",
        "value = 41\n",
        "\n",
        "# Desplazamiento a la izquierda\n",
        "shift_left_1 = value << 1  # Desplazamiento a la izquierda por 1 bit\n",
        "shift_left_2 = value << 2  # Desplazamiento a la izquierda por 2 bits\n",
        "\n",
        "# Desplazamiento a la derecha\n",
        "shift_right_1 = value >> 1  # Desplazamiento a la derecha por 1 bit\n",
        "shift_right_2 = value >> 2  # Desplazamiento a la derecha por 2 bits\n",
        "\n",
        "# Imprimir los resultados\n",
        "print(\"Decimal form:\", value)\n",
        "print(\"Shift left (1):\", shift_left_1)\n",
        "print(\"Shift left (2):\", shift_left_2)\n",
        "print(\"Shift right (1):\", shift_right_1)\n",
        "print(\"Shift right (2):\", shift_right_2)\n"
      ],
      "metadata": {
        "colab": {
          "base_uri": "https://localhost:8080/"
        },
        "id": "km-mHO5czoQP",
        "outputId": "19f20d26-d0ef-4c83-aec6-d01f424200e0"
      },
      "execution_count": 6,
      "outputs": [
        {
          "output_type": "stream",
          "name": "stdout",
          "text": [
            "Decimal form: 41\n",
            "Shift left (1): 82\n",
            "Shift left (2): 164\n",
            "Shift right (1): 20\n",
            "Shift right (2): 10\n"
          ]
        }
      ]
    },
    {
      "cell_type": "code",
      "source": [
        "def factorize(n):\n",
        "    factors = []\n",
        "    divisor = 2\n",
        "    while divisor <= n:\n",
        "        while (n % divisor) == 0:\n",
        "            factors.append(divisor)\n",
        "            n = n // divisor\n",
        "        divisor += 1\n",
        "    return factors\n",
        "\n",
        "# Factorización de 432\n",
        "number = 432\n",
        "factors = factorize(number)\n",
        "print(f\"Factores de {number}: {factors}\")\n"
      ],
      "metadata": {
        "colab": {
          "base_uri": "https://localhost:8080/"
        },
        "id": "TMK22Dl9022C",
        "outputId": "4c2e4549-49ae-4878-ed77-d9b0d4998df7"
      },
      "execution_count": 10,
      "outputs": [
        {
          "output_type": "stream",
          "name": "stdout",
          "text": [
            "Factores de 432: [2, 2, 2, 2, 3, 3, 3]\n"
          ]
        }
      ]
    },
    {
      "cell_type": "code",
      "source": [
        "factorize(2192029103923)"
      ],
      "metadata": {
        "colab": {
          "base_uri": "https://localhost:8080/"
        },
        "id": "geC9vasz33lP",
        "outputId": "28d3bcfb-0d4c-4882-bb97-b456c4d9984b"
      },
      "execution_count": 12,
      "outputs": [
        {
          "output_type": "execute_result",
          "data": {
            "text/plain": [
              "[61, 311, 4049, 28537]"
            ]
          },
          "metadata": {},
          "execution_count": 12
        }
      ]
    },
    {
      "cell_type": "code",
      "source": [
        "import math\n",
        "from functools import reduce\n",
        "\n",
        "# Function to calculate the GCD of a list of numbers\n",
        "def gcd_of_list(numbers):\n",
        "    return reduce(math.gcd, numbers)"
      ],
      "metadata": {
        "id": "eWeKAVOC86SQ"
      },
      "execution_count": 13,
      "outputs": []
    },
    {
      "cell_type": "code",
      "source": [
        "numbers_3 = [4105, 10]\n",
        "numbers_4 = [4539, 6]\n"
      ],
      "metadata": {
        "id": "xmScRpqHNFzr"
      },
      "execution_count": 16,
      "outputs": []
    },
    {
      "cell_type": "code",
      "source": [
        "print(f\"GCD of {numbers_3}: {gcd_of_list(numbers_3)}\")\n",
        "print(f\"GCD of {numbers_4}: {gcd_of_list(numbers_4)}\")"
      ],
      "metadata": {
        "colab": {
          "base_uri": "https://localhost:8080/"
        },
        "id": "XhY9M_nLPNM7",
        "outputId": "65a326ef-6ddd-47c9-9cf2-11eb4d76e9d4"
      },
      "execution_count": 17,
      "outputs": [
        {
          "output_type": "stream",
          "name": "stdout",
          "text": [
            "GCD of [4105, 10]: 5\n",
            "GCD of [4539, 6]: 3\n"
          ]
        }
      ]
    },
    {
      "cell_type": "code",
      "source": [
        "def is_prime(n):\n",
        "    \"\"\"Check if a number is prime.\"\"\"\n",
        "    if n <= 1:\n",
        "        return False\n",
        "    if n <= 3:\n",
        "        return True\n",
        "    if n % 2 == 0 or n % 3 == 0:\n",
        "        return False\n",
        "    i = 5\n",
        "    while i * i <= n:\n",
        "        if n % i == 0 or n % (i + 2) == 0:\n",
        "            return False\n",
        "        i += 6\n",
        "    return True\n",
        "\n",
        "def mod_exp(M, e, p):\n",
        "    \"\"\"Calculate M^e mod p if p is prime.\"\"\"\n",
        "    if not is_prime(p):\n",
        "        return \"The number p is not a prime number.\"\n",
        "    return pow(M, e, p)\n",
        "\n",
        "# Example usage:\n",
        "M = 8\n",
        "e = 5\n",
        "p = 269\n",
        "result = mod_exp(M, e, p)\n",
        "print(f\"The result of {M}^{e} mod {p} is {result}\")\n",
        "\n",
        "# Check if 8^5 mod 269 equals 219\n",
        "is_equal = result == 219\n",
        "print(f\"Is the result of 8^5 mod 269 equal to 219? {'Yes' if is_equal else 'No'}\")\n"
      ],
      "metadata": {
        "colab": {
          "base_uri": "https://localhost:8080/"
        },
        "id": "v5qdxj0IRlWo",
        "outputId": "cd574099-5b73-45fb-8498-ce4f241ef708"
      },
      "execution_count": 5,
      "outputs": [
        {
          "output_type": "stream",
          "name": "stdout",
          "text": [
            "The result of 8^5 mod 269 is 219\n",
            "Is the result of 8^5 mod 269 equal to 219? Yes\n"
          ]
        }
      ]
    },
    {
      "cell_type": "code",
      "source": [
        "print(pow(8, 13, 271))\n"
      ],
      "metadata": {
        "colab": {
          "base_uri": "https://localhost:8080/"
        },
        "id": "6-bjPJ3uUTDa",
        "outputId": "5262c901-a53d-4d5a-86ce-a6cdfcee6068"
      },
      "execution_count": 6,
      "outputs": [
        {
          "output_type": "stream",
          "name": "stdout",
          "text": [
            "119\n"
          ]
        }
      ]
    },
    {
      "cell_type": "code",
      "source": [
        "print(pow(12, 23, 973))\n"
      ],
      "metadata": {
        "colab": {
          "base_uri": "https://localhost:8080/"
        },
        "id": "ZIZhWvENTHRc",
        "outputId": "04fe32a2-3560-42d2-8411-ac96cb7cbbd2"
      },
      "execution_count": 4,
      "outputs": [
        {
          "output_type": "stream",
          "name": "stdout",
          "text": [
            "514\n"
          ]
        }
      ]
    },
    {
      "cell_type": "code",
      "source": [
        "# Function to calculate the cipher\n",
        "def calculate_cipher(message, e, p):\n",
        "    return (int(message) ** int(e)) % int(p)\n",
        "\n",
        "# (a) message = 5, e = 5, p = 53\n",
        "message_a = 5\n",
        "e_a = 5\n",
        "p_a = 53\n",
        "cipher_a = calculate_cipher(message_a, e_a, p_a)\n",
        "print(f\"(a) Result: {cipher_a} (Expected: 51)\")\n",
        "\n",
        "# (b) message = 4, e = 11, p = 79\n",
        "message_b = 4\n",
        "e_b = 11\n",
        "p_b = 79\n",
        "cipher_b = calculate_cipher(message_b, e_b, p_b)\n",
        "print(f\"(b) Result: {cipher_b} (Expected: 36)\")\n",
        "\n",
        "# (c) message = 101, e = 7, p = 293\n",
        "message_c = 101\n",
        "e_c = 7\n",
        "p_c = 293\n",
        "cipher_c = calculate_cipher(message_c, e_c, p_c)\n",
        "print(f\"(c) Result: {cipher_c} (Expected: 176)\")\n"
      ],
      "metadata": {
        "colab": {
          "base_uri": "https://localhost:8080/"
        },
        "id": "DKxuSwTgUQtR",
        "outputId": "85108721-ecc4-4c9a-c35c-c35cfcfc4a4b"
      },
      "execution_count": 7,
      "outputs": [
        {
          "output_type": "stream",
          "name": "stdout",
          "text": [
            "(a) Result: 51 (Expected: 51)\n",
            "(b) Result: 36 (Expected: 36)\n",
            "(c) Result: 176 (Expected: 176)\n"
          ]
        }
      ]
    },
    {
      "cell_type": "code",
      "source": [
        "def is_prime(n):\n",
        "    if n <= 1:\n",
        "        return False\n",
        "    if n <= 3:\n",
        "        return True\n",
        "    if n % 2 == 0 or n % 3 == 0:\n",
        "        return False\n",
        "    i = 5\n",
        "    while i * i <= n:\n",
        "        if n % i == 0 or n % (i + 2) == 0:\n",
        "            return False\n",
        "        i += 6\n",
        "    return True\n",
        "\n",
        "def primes_up_to_100():\n",
        "    primes = []\n",
        "    for k in range(100):\n",
        "        n1 = 6 * k - 1\n",
        "        n2 = 6 * k + 1\n",
        "        if n1 > 1 and is_prime(n1):\n",
        "            primes.append(n1)\n",
        "        if n2 > 1 and n2 <= 100 and is_prime(n2):\n",
        "            primes.append(n2)\n",
        "    primes.sort()\n",
        "    return primes\n",
        "\n",
        "print(\"Prime numbers up to 100:\", primes_up_to_100())\n"
      ],
      "metadata": {
        "colab": {
          "base_uri": "https://localhost:8080/"
        },
        "id": "7FqdMgqmn5d_",
        "outputId": "2388a817-84fa-4ddb-8a25-9167c75e88e8"
      },
      "execution_count": 1,
      "outputs": [
        {
          "output_type": "stream",
          "name": "stdout",
          "text": [
            "Prime numbers up to 100: [5, 7, 11, 13, 17, 19, 23, 29, 31, 37, 41, 43, 47, 53, 59, 61, 67, 71, 73, 79, 83, 89, 97, 101, 107, 113, 131, 137, 149, 167, 173, 179, 191, 197, 227, 233, 239, 251, 257, 263, 269, 281, 293, 311, 317, 347, 353, 359, 383, 389, 401, 419, 431, 443, 449, 461, 467, 479, 491, 503, 509, 521, 557, 563, 569, 587, 593]\n"
          ]
        }
      ]
    },
    {
      "cell_type": "code",
      "source": [
        "def sieve_for_primes_to(n):\n",
        "    size = n // 2\n",
        "    sieve = [1] * size\n",
        "    limit = int(n**0.5)\n",
        "    for i in range(1, limit):\n",
        "        if sieve[i]:\n",
        "            val = 2 * i + 1\n",
        "            tmp = ((size - 1) - i) // val\n",
        "            sieve[i + val::val] = [0] * tmp\n",
        "    return [2] + [i * 2 + 1 for i, v in enumerate(sieve) if v and i > 0]\n",
        "\n",
        "primes_up_to_1000 = sieve_for_primes_to(1000)\n",
        "print(\"Prime numbers up to 1000:\", primes_up_to_1000)\n",
        "print(\"Highest prime number up to 1000:\", max(primes_up_to_1000))\n"
      ],
      "metadata": {
        "colab": {
          "base_uri": "https://localhost:8080/"
        },
        "id": "rmDK4lltokH8",
        "outputId": "1459a773-78fe-4299-df58-1a5e7256a957"
      },
      "execution_count": 2,
      "outputs": [
        {
          "output_type": "stream",
          "name": "stdout",
          "text": [
            "Prime numbers up to 1000: [2, 3, 5, 7, 11, 13, 17, 19, 23, 29, 31, 37, 41, 43, 47, 53, 59, 61, 67, 71, 73, 79, 83, 89, 97, 101, 103, 107, 109, 113, 127, 131, 137, 139, 149, 151, 157, 163, 167, 173, 179, 181, 191, 193, 197, 199, 211, 223, 227, 229, 233, 239, 241, 251, 257, 263, 269, 271, 277, 281, 283, 293, 307, 311, 313, 317, 331, 337, 347, 349, 353, 359, 367, 373, 379, 383, 389, 397, 401, 409, 419, 421, 431, 433, 439, 443, 449, 457, 461, 463, 467, 479, 487, 491, 499, 503, 509, 521, 523, 541, 547, 557, 563, 569, 571, 577, 587, 593, 599, 601, 607, 613, 617, 619, 631, 641, 643, 647, 653, 659, 661, 673, 677, 683, 691, 701, 709, 719, 727, 733, 739, 743, 751, 757, 761, 769, 773, 787, 797, 809, 811, 821, 823, 827, 829, 839, 853, 857, 859, 863, 877, 881, 883, 887, 907, 911, 919, 929, 937, 941, 947, 953, 967, 971, 977, 983, 991, 997]\n",
            "Highest prime number up to 1000: 997\n"
          ]
        }
      ]
    },
    {
      "cell_type": "code",
      "source": [
        "ranges = [100, 1000, 5000, 10000]\n",
        "\n",
        "for r in ranges:\n",
        "    primes = sieve_for_primes_to(r)\n",
        "    print(f\"Highest prime number up to {r}: {max(primes)}\")\n"
      ],
      "metadata": {
        "colab": {
          "base_uri": "https://localhost:8080/"
        },
        "id": "4OBq74QCo2E2",
        "outputId": "e5e74ff5-ea17-417a-fb3e-e27b26d88829"
      },
      "execution_count": 3,
      "outputs": [
        {
          "output_type": "stream",
          "name": "stdout",
          "text": [
            "Highest prime number up to 100: 97\n",
            "Highest prime number up to 1000: 997\n",
            "Highest prime number up to 5000: 4999\n",
            "Highest prime number up to 10000: 9973\n"
          ]
        }
      ]
    },
    {
      "cell_type": "code",
      "source": [
        "def linear_congruential_generator(a, seed, c, m, length=5):\n",
        "    sequence = []\n",
        "    x = seed\n",
        "    for _ in range(length):\n",
        "        x = (a * x + c) % m\n",
        "        sequence.append(x)\n",
        "    return sequence\n",
        "\n",
        "# Given parameters\n",
        "a = 2175143\n",
        "seed = 3553\n",
        "c = 10653\n",
        "m = 1000000\n",
        "\n",
        "# Generate sequence\n",
        "sequence = linear_congruential_generator(a, seed, c, m, length=18)\n",
        "print(\"Generated sequence:\", sequence)\n"
      ],
      "metadata": {
        "colab": {
          "base_uri": "https://localhost:8080/"
        },
        "id": "4WOPDQveru8G",
        "outputId": "2576ed90-f281-4901-c72f-b5958f679747"
      },
      "execution_count": 11,
      "outputs": [
        {
          "output_type": "stream",
          "name": "stdout",
          "text": [
            "Generated sequence: [293732, 114329, 934700, 172753, 489332, 85129, 759100, 61953, 644932, 335929, 623500, 671153, 760532, 866729, 527900, 353, 836132, 677529]\n"
          ]
        }
      ]
    },
    {
      "cell_type": "code",
      "source": [
        "def decrypt_caesar(ciphertext, shift):\n",
        "    plaintext = \"\"\n",
        "    for char in ciphertext:\n",
        "        if char.isalpha():\n",
        "            shift_amount = shift if char.islower() else shift\n",
        "            shifted = ord(char) - shift_amount\n",
        "            if char.islower():\n",
        "                if shifted < ord('a'):\n",
        "                    shifted += 26\n",
        "            else:\n",
        "                if shifted < ord('A'):\n",
        "                    shifted += 26\n",
        "            plaintext += chr(shifted)\n",
        "        else:\n",
        "            plaintext += char\n",
        "    return plaintext\n",
        "\n",
        "ciphertexts = [\n",
        "    \"ymnx nx ymj ktwjxy uwnrjafq\",\n",
        "    \"esp bflwtej zq xpcnj td yze decltypo\",\n",
        "    \"owlzwhwghdwgxlzwmfalwvklslwk\",\n",
        "    \"haahjr ha khdu\",\n",
        "    \"wkh srufxslqh lv xqghu wkh vkhhwv\",\n",
        "    \"WKH TXLFN EURZQ IRA MXPSV RYHU WKH ODCB GRJ\"\n",
        "]\n",
        "\n",
        "for ciphertext in ciphertexts:\n",
        "    print(f\"Ciphertext: {ciphertext}\")\n",
        "    for k in range(26):\n",
        "        plaintext = decrypt_caesar(ciphertext, k)\n",
        "        print(f\"Key {k}: {plaintext}\")\n",
        "    print(\"\\n\")\n"
      ],
      "metadata": {
        "colab": {
          "base_uri": "https://localhost:8080/"
        },
        "id": "x0yNvn9TzAIi",
        "outputId": "743ef1a9-ee46-4459-ddc2-26376dfb27b7"
      },
      "execution_count": 1,
      "outputs": [
        {
          "output_type": "stream",
          "name": "stdout",
          "text": [
            "Ciphertext: ymnx nx ymj ktwjxy uwnrjafq\n",
            "Key 0: ymnx nx ymj ktwjxy uwnrjafq\n",
            "Key 1: xlmw mw xli jsviwx tvmqizep\n",
            "Key 2: wklv lv wkh iruhvw sulphydo\n",
            "Key 3: vjku ku vjg hqtguv rtkogxcn\n",
            "Key 4: uijt jt uif gpsftu qsjnfwbm\n",
            "Key 5: this is the forest primeval\n",
            "Key 6: sghr hr sgd enqdrs oqhlduzk\n",
            "Key 7: rfgq gq rfc dmpcqr npgkctyj\n",
            "Key 8: qefp fp qeb clobpq mofjbsxi\n",
            "Key 9: pdeo eo pda bknaop lneiarwh\n",
            "Key 10: ocdn dn ocz ajmzno kmdhzqvg\n",
            "Key 11: nbcm cm nby zilymn jlcgypuf\n",
            "Key 12: mabl bl max yhkxlm ikbfxote\n",
            "Key 13: lzak ak lzw xgjwkl hjaewnsd\n",
            "Key 14: kyzj zj kyv wfivjk gizdvmrc\n",
            "Key 15: jxyi yi jxu vehuij fhyculqb\n",
            "Key 16: iwxh xh iwt udgthi egxbtkpa\n",
            "Key 17: hvwg wg hvs tcfsgh dfwasjoz\n",
            "Key 18: guvf vf gur sberfg cevzriny\n",
            "Key 19: ftue ue ftq radqef bduyqhmx\n",
            "Key 20: estd td esp qzcpde actxpglw\n",
            "Key 21: drsc sc dro pybocd zbswofkv\n",
            "Key 22: cqrb rb cqn oxanbc yarvneju\n",
            "Key 23: bpqa qa bpm nwzmab xzqumdit\n",
            "Key 24: aopz pz aol mvylza wyptlchs\n",
            "Key 25: znoy oy znk luxkyz vxoskbgr\n",
            "\n",
            "\n",
            "Ciphertext: esp bflwtej zq xpcnj td yze decltypo\n",
            "Key 0: esp bflwtej zq xpcnj td yze decltypo\n",
            "Key 1: dro aekvsdi yp wobmi sc xyd cdbksxon\n",
            "Key 2: cqn zdjurch xo vnalh rb wxc bcajrwnm\n",
            "Key 3: bpm ycitqbg wn umzkg qa vwb abziqvml\n",
            "Key 4: aol xbhspaf vm tlyjf pz uva zayhpulk\n",
            "Key 5: znk wagroze ul skxie oy tuz yzxgotkj\n",
            "Key 6: ymj vzfqnyd tk rjwhd nx sty xywfnsji\n",
            "Key 7: xli uyepmxc sj qivgc mw rsx wxvemrih\n",
            "Key 8: wkh txdolwb ri phufb lv qrw vwudlqhg\n",
            "Key 9: vjg swcnkva qh ogtea ku pqv uvtckpgf\n",
            "Key 10: uif rvbmjuz pg nfsdz jt opu tusbjofe\n",
            "Key 11: the quality of mercy is not strained\n",
            "Key 12: sgd ptzkhsx ne ldqbx hr mns rsqzhmdc\n",
            "Key 13: rfc osyjgrw md kcpaw gq lmr qrpyglcb\n",
            "Key 14: qeb nrxifqv lc jbozv fp klq pqoxfkba\n",
            "Key 15: pda mqwhepu kb ianyu eo jkp opnwejaz\n",
            "Key 16: ocz lpvgdot ja hzmxt dn ijo nomvdizy\n",
            "Key 17: nby koufcns iz gylws cm hin mnluchyx\n",
            "Key 18: max jntebmr hy fxkvr bl ghm lmktbgxw\n",
            "Key 19: lzw imsdalq gx ewjuq ak fgl kljsafwv\n",
            "Key 20: kyv hlrczkp fw dvitp zj efk jkirzevu\n",
            "Key 21: jxu gkqbyjo ev cuhso yi dej ijhqydut\n",
            "Key 22: iwt fjpaxin du btgrn xh cdi higpxcts\n",
            "Key 23: hvs eiozwhm ct asfqm wg bch ghfowbsr\n",
            "Key 24: gur dhnyvgl bs zrepl vf abg fgenvarq\n",
            "Key 25: ftq cgmxufk ar yqdok ue zaf efdmuzqp\n",
            "\n",
            "\n",
            "Ciphertext: owlzwhwghdwgxlzwmfalwvklslwk\n",
            "Key 0: owlzwhwghdwgxlzwmfalwvklslwk\n",
            "Key 1: nvkyvgvfgcvfwkyvlezkvujkrkvj\n",
            "Key 2: mujxufuefbuevjxukdyjutijqjui\n",
            "Key 3: ltiwtetdeatduiwtjcxitshipith\n",
            "Key 4: kshvsdscdzscthvsibwhsrghohsg\n",
            "Key 5: jrgurcrbcyrbsgurhavgrqfgngrf\n",
            "Key 6: iqftqbqabxqarftqgzufqpefmfqe\n",
            "Key 7: hpespapzawpzqespfytepodelepd\n",
            "Key 8: godrozoyzvoypdroexsdoncdkdoc\n",
            "Key 9: fncqnynxyunxocqndwrcnmbcjcnb\n",
            "Key 10: embpmxmwxtmwnbpmcvqbmlabibma\n",
            "Key 11: dlaolwlvwslvmaolbupalkzahalz\n",
            "Key 12: ckznkvkuvrkulznkatozkjyzgzky\n",
            "Key 13: bjymjujtuqjtkymjzsnyjixyfyjx\n",
            "Key 14: aixlitistpisjxliyrmxihwxexiw\n",
            "Key 15: zhwkhshrsohriwkhxqlwhgvwdwhv\n",
            "Key 16: ygvjgrgqrngqhvjgwpkvgfuvcvgu\n",
            "Key 17: xfuifqfpqmfpguifvojufetubuft\n",
            "Key 18: wethepeopleoftheunitedstates\n",
            "Key 19: vdsgdodnokdnesgdtmhsdcrszsdr\n",
            "Key 20: ucrfcncmnjcmdrfcslgrcbqryrcq\n",
            "Key 21: tbqebmblmiblcqebrkfqbapqxqbp\n",
            "Key 22: sapdalaklhakbpdaqjepazopwpao\n",
            "Key 23: rzoczkzjkgzjaoczpidozynovozn\n",
            "Key 24: qynbyjyijfyiznbyohcnyxmnunym\n",
            "Key 25: pxmaxixhiexhymaxngbmxwlmtmxl\n",
            "\n",
            "\n",
            "Ciphertext: haahjr ha khdu\n",
            "Key 0: haahjr ha khdu\n",
            "Key 1: gzzgiq gz jgct\n",
            "Key 2: fyyfhp fy ifbs\n",
            "Key 3: exxego ex hear\n",
            "Key 4: dwwdfn dw gdzq\n",
            "Key 5: cvvcem cv fcyp\n",
            "Key 6: buubdl bu ebxo\n",
            "Key 7: attack at dawn\n",
            "Key 8: zsszbj zs czvm\n",
            "Key 9: yrryai yr byul\n",
            "Key 10: xqqxzh xq axtk\n",
            "Key 11: wppwyg wp zwsj\n",
            "Key 12: voovxf vo yvri\n",
            "Key 13: unnuwe un xuqh\n",
            "Key 14: tmmtvd tm wtpg\n",
            "Key 15: sllsuc sl vsof\n",
            "Key 16: rkkrtb rk urne\n",
            "Key 17: qjjqsa qj tqmd\n",
            "Key 18: piiprz pi splc\n",
            "Key 19: ohhoqy oh rokb\n",
            "Key 20: nggnpx ng qnja\n",
            "Key 21: mffmow mf pmiz\n",
            "Key 22: leelnv le olhy\n",
            "Key 23: kddkmu kd nkgx\n",
            "Key 24: jccjlt jc mjfw\n",
            "Key 25: ibbiks ib liev\n",
            "\n",
            "\n",
            "Ciphertext: wkh srufxslqh lv xqghu wkh vkhhwv\n",
            "Key 0: wkh srufxslqh lv xqghu wkh vkhhwv\n",
            "Key 1: vjg rqtewrkpg ku wpfgt vjg ujggvu\n",
            "Key 2: uif qpsdvqjof jt voefs uif tiffut\n",
            "Key 3: the porcupine is under the sheets\n",
            "Key 4: sgd onqbtohmd hr tmcdq sgd rgddsr\n",
            "Key 5: rfc nmpasnglc gq slbcp rfc qfccrq\n",
            "Key 6: qeb mlozrmfkb fp rkabo qeb pebbqp\n",
            "Key 7: pda lknyqleja eo qjzan pda odaapo\n",
            "Key 8: ocz kjmxpkdiz dn piyzm ocz nczzon\n",
            "Key 9: nby jilwojchy cm ohxyl nby mbyynm\n",
            "Key 10: max ihkvnibgx bl ngwxk max laxxml\n",
            "Key 11: lzw hgjumhafw ak mfvwj lzw kzwwlk\n",
            "Key 12: kyv gfitlgzev zj leuvi kyv jyvvkj\n",
            "Key 13: jxu fehskfydu yi kdtuh jxu ixuuji\n",
            "Key 14: iwt edgrjexct xh jcstg iwt hwttih\n",
            "Key 15: hvs dcfqidwbs wg ibrsf hvs gvsshg\n",
            "Key 16: gur cbephcvar vf haqre gur furrgf\n",
            "Key 17: ftq badogbuzq ue gzpqd ftq etqqfe\n",
            "Key 18: esp azcnfatyp td fyopc esp dspped\n",
            "Key 19: dro zybmezsxo sc exnob dro croodc\n",
            "Key 20: cqn yxaldyrwn rb dwmna cqn bqnncb\n",
            "Key 21: bpm xwzkcxqvm qa cvlmz bpm apmmba\n",
            "Key 22: aol wvyjbwpul pz bukly aol zollaz\n",
            "Key 23: znk vuxiavotk oy atjkx znk ynkkzy\n",
            "Key 24: ymj utwhzunsj nx zsijw ymj xmjjyx\n",
            "Key 25: xli tsvgytmri mw yrhiv xli wliixw\n",
            "\n",
            "\n",
            "Ciphertext: WKH TXLFN EURZQ IRA MXPSV RYHU WKH ODCB GRJ\n",
            "Key 0: WKH TXLFN EURZQ IRA MXPSV RYHU WKH ODCB GRJ\n",
            "Key 1: VJG SWKEM DTQYP HQZ LWORU QXGT VJG NCBA FQI\n",
            "Key 2: UIF RVJDL CSPXO GPY KVNQT PWFS UIF MBAZ EPH\n",
            "Key 3: THE QUICK BROWN FOX JUMPS OVER THE LAZY DOG\n",
            "Key 4: SGD PTHBJ AQNVM ENW ITLOR NUDQ SGD KZYX CNF\n",
            "Key 5: RFC OSGAI ZPMUL DMV HSKNQ MTCP RFC JYXW BME\n",
            "Key 6: QEB NRFZH YOLTK CLU GRJMP LSBO QEB IXWV ALD\n",
            "Key 7: PDA MQEYG XNKSJ BKT FQILO KRAN PDA HWVU ZKC\n",
            "Key 8: OCZ LPDXF WMJRI AJS EPHKN JQZM OCZ GVUT YJB\n",
            "Key 9: NBY KOCWE VLIQH ZIR DOGJM IPYL NBY FUTS XIA\n",
            "Key 10: MAX JNBVD UKHPG YHQ CNFIL HOXK MAX ETSR WHZ\n",
            "Key 11: LZW IMAUC TJGOF XGP BMEHK GNWJ LZW DSRQ VGY\n",
            "Key 12: KYV HLZTB SIFNE WFO ALDGJ FMVI KYV CRQP UFX\n",
            "Key 13: JXU GKYSA RHEMD VEN ZKCFI ELUH JXU BQPO TEW\n",
            "Key 14: IWT FJXRZ QGDLC UDM YJBEH DKTG IWT APON SDV\n",
            "Key 15: HVS EIWQY PFCKB TCL XIADG CJSF HVS ZONM RCU\n",
            "Key 16: GUR DHVPX OEBJA SBK WHZCF BIRE GUR YNML QBT\n",
            "Key 17: FTQ CGUOW NDAIZ RAJ VGYBE AHQD FTQ XMLK PAS\n",
            "Key 18: ESP BFTNV MCZHY QZI UFXAD ZGPC ESP WLKJ OZR\n",
            "Key 19: DRO AESMU LBYGX PYH TEWZC YFOB DRO VKJI NYQ\n",
            "Key 20: CQN ZDRLT KAXFW OXG SDVYB XENA CQN UJIH MXP\n",
            "Key 21: BPM YCQKS JZWEV NWF RCUXA WDMZ BPM TIHG LWO\n",
            "Key 22: AOL XBPJR IYVDU MVE QBTWZ VCLY AOL SHGF KVN\n",
            "Key 23: ZNK WAOIQ HXUCT LUD PASVY UBKX ZNK RGFE JUM\n",
            "Key 24: YMJ VZNHP GWTBS KTC OZRUX TAJW YMJ QFED ITL\n",
            "Key 25: XLI UYMGO FVSAR JSB NYQTW SZIV XLI PEDC HSK\n",
            "\n",
            "\n"
          ]
        }
      ]
    },
    {
      "cell_type": "code",
      "source": [
        "# Texto cifrado\n",
        "texto_cifrado = \"\"\"\n",
        "lrvmnir bpr sumvbwvr jx bpr lmiwv yjeryrkbi jx qmbm wi\n",
        "bpr xjvni mkd ymibrut jx irhx wi bpr riirkvr jx\n",
        "ymbinlmtmipw utn qmumbr dj w ipmhh but bj rhnvwdmbr bpr\n",
        "yjeryrkbi jx bpr qmbm mvvjudwko bj yt wkbrusurbmbwjk\n",
        "lmird jk xjubt trmui jx ibndt\n",
        "wb wi kjb mk rmit bmiq bj rashmwk rmvp yjeryrkb mkd wbi\n",
        "iwokwxwvmkvr mkd ijyr ynib urymwk nkrashmwkrd bj ower m\n",
        "vjyshrbr rashmkmbwjk jkr cjnhd pmer bj lr fnmhwxwrd mkd\n",
        "wkiswurd bj invp mk rabrkb bpmb pr vjnhd urmvp bpr ibmbr\n",
        "jx rkhwopbrkrd ywkd vmsmlhr jx urvjokwgwko ijnkdhrii\n",
        "ijnkd mkd ipmsrhrii ipmsr w dj kjb drry ytirhx bpr xwkmh\n",
        "mnbpjuwbt lnb yt rasruwrkvr cwbp qmbm pmi hrxb kj djnlb\n",
        "bpmb bpr xjhhjcwko wi bpr sujsru msshwvmbwjk mkd\n",
        "wkbrusurbmbwjk w jxxru yt bprjuwri wk bpr pjsr bpmb bpr\n",
        "riirkvr jx jqwkmcmk qmumbr cwhh urymwk wkbmvb\n",
        "\"\"\"\n",
        "\n",
        "# Emparejamiento de letras cifradas con letras en inglés basado en la frecuencia\n",
        "emparejamiento = {\n",
        "    'r': 'E', 'b': 'T', 'm': 'A', 'k': 'O', 'j': 'I', 'w': 'N', 'i': 'S', 'p': 'H',\n",
        "    'u': 'R', 'd': 'D', 'h': 'L', 'v': 'C', 'x': 'U', 'y': 'M', 'n': 'W', 's': 'F',\n",
        "    't': 'G', 'l': 'Y', 'q': 'P', 'o': 'B', 'e': 'V', 'a': 'K', 'c': 'J', 'f': 'X',\n",
        "    'g': 'Q'\n",
        "}\n",
        "\n",
        "# Función para descifrar el texto usando el emparejamiento\n",
        "def descifrar_texto(texto, emparejamiento):\n",
        "    return ''.join([emparejamiento.get(letra, letra) for letra in texto])\n",
        "\n",
        "# Aplicar la función al texto cifrado\n",
        "texto_descifrado = descifrar_texto(texto_cifrado, emparejamiento)\n",
        "texto_descifrado"
      ],
      "metadata": {
        "colab": {
          "base_uri": "https://localhost:8080/",
          "height": 87
        },
        "id": "VKORLg0mNOQ9",
        "outputId": "b2afee66-e645-429a-baca-bb59c65afdde"
      },
      "execution_count": 40,
      "outputs": [
        {
          "output_type": "execute_result",
          "data": {
            "text/plain": [
              "'\\nYECAWSE THE FRACTNCE IU THE YASNC MIVEMEOTS IU PATA NS \\nTHE UICWS AOD MASTERG IU SELU NS THE ESSEOCE IU \\nMATSWYAGASHN RGW PARATE DI N SHALL TRG TI ELWCNDATE THE \\nMIVEMEOTS IU THE PATA ACCIRDNOB TI MG NOTERFRETATNIO \\nYASED IO UIRTG GEARS IU STWDG \\nNT NS OIT AO EASG TASP TI EKFLANO EACH MIVEMEOT AOD NTS \\nSNBONUNCAOCE AOD SIME MWST REMANO WOEKFLANOED TI BNVE A \\nCIMFLETE EKFLAOATNIO IOE JIWLD HAVE TI YE XWALNUNED AOD \\nNOSFNRED TI SWCH AO EKTEOT THAT HE CIWLD REACH THE STATE \\nIU EOLNBHTEOED MNOD CAFAYLE IU RECIBONQNOB SIWODLESS \\nSIWOD AOD SHAFELESS SHAFE N DI OIT DEEM MGSELU THE UNOAL \\nAWTHIRNTG YWT MG EKFERNEOCE JNTH PATA HAS LEUT OI DIWYT \\nTHAT THE UILLIJNOB NS THE FRIFER AFFLNCATNIO AOD \\nNOTERFRETATNIO N IUUER MG THEIRNES NO THE HIFE THAT THE \\nESSEOCE IU IPNOAJAO PARATE JNLL REMANO NOTACT \\n'"
            ],
            "application/vnd.google.colaboratory.intrinsic+json": {
              "type": "string"
            }
          },
          "metadata": {},
          "execution_count": 40
        }
      ]
    },
    {
      "cell_type": "code",
      "source": [
        "# Texto cifrado en una sola línea\n",
        "texto_cifrado = \"lrvmnir bpr sumvbwvr jx bpr lmiwv yjeryrkbi jx qmbm wi bpr xjvni mkd ymibrut jx irhx wi bpr riirkvr jx ymbinlmtmipw utn qmumbr dj w ipmhh but bj rhnvwdmbr bpr yjeryrkbi jx bpr qmbm mvvjudwko bj yt wkbrusurbmbwjk lmird jk xjubt trmui jx ibndt wb wi kjb mk rmit bmiq bj rashmwk rmvp yjeryrkb mkd wbi iwokwxwvmkvr mkd ijyr ynib urymwk nkrashmwkrd bj ower m vjyshrbr rashmkmbwjk jkr cjnhd pmer bj lr fnmhwxwrd mkd wkiswurd bj invp mk rabrkb bpmb pr vjnhd urmvp bpr ibmbr jx rkhwopbrkrd ywkd vmsmlhr jx urvjokwgwko ijnkdhrii ijnkd mkd ipmsrhrii ipmsr w dj kjb drry ytirhx bpr xwkmh mnbpjuwbt lnb yt rasruwrkvr cwbp qmbm pmi hrxb kj djnlb bpmb bpr xjhhjcwko wi bpr sujsru msshwvmbwjk mkd wkbrusurbmbwjk w jxxru yt bprjuwri wk bpr pjsr bpmb bpr riirkvr jx jqwkmcmk qmumbr cwhh urymwk wkbmvb\"\n",
        "\n",
        "# Emparejamiento de letras cifradas con letras en inglés basado en la frecuencia\n",
        "emparejamiento = {\n",
        "    'r': 'E', 'b': 'T', 'm': 'A', 'k': 'O', 'j': 'I', 'w': 'N', 'i': 'S', 'p': 'H',\n",
        "    'u': 'R', 'd': 'D', 'h': 'L', 'v': 'C', 'x': 'U', 'y': 'M', 'n': 'W', 's': 'F',\n",
        "    't': 'G', 'l': 'Y', 'q': 'P', 'o': 'B', 'e': 'V', 'a': 'K', 'c': 'J', 'f': 'X',\n",
        "    'g': 'Q'\n",
        "}\n",
        "\n",
        "# Función para descifrar el texto usando el emparejamiento\n",
        "def descifrar_texto(texto, emparejamiento):\n",
        "    return ''.join([emparejamiento.get(letra, letra) for letra in texto])\n",
        "\n",
        "# Aplicar la función al texto cifrado\n",
        "texto_descifrado = descifrar_texto(texto_cifrado, emparejamiento)\n",
        "print(texto_descifrado)\n"
      ],
      "metadata": {
        "colab": {
          "base_uri": "https://localhost:8080/"
        },
        "id": "GYCiRqg4N3FQ",
        "outputId": "b510c653-e83a-4635-e05c-4c76cc459add"
      },
      "execution_count": 41,
      "outputs": [
        {
          "output_type": "stream",
          "name": "stdout",
          "text": [
            "YECAWSE THE FRACTNCE IU THE YASNC MIVEMEOTS IU PATA NS THE UICWS AOD MASTERG IU SELU NS THE ESSEOCE IU MATSWYAGASHN RGW PARATE DI N SHALL TRG TI ELWCNDATE THE MIVEMEOTS IU THE PATA ACCIRDNOB TI MG NOTERFRETATNIO YASED IO UIRTG GEARS IU STWDG NT NS OIT AO EASG TASP TI EKFLANO EACH MIVEMEOT AOD NTS SNBONUNCAOCE AOD SIME MWST REMANO WOEKFLANOED TI BNVE A CIMFLETE EKFLAOATNIO IOE JIWLD HAVE TI YE XWALNUNED AOD NOSFNRED TI SWCH AO EKTEOT THAT HE CIWLD REACH THE STATE IU EOLNBHTEOED MNOD CAFAYLE IU RECIBONQNOB SIWODLESS SIWOD AOD SHAFELESS SHAFE N DI OIT DEEM MGSELU THE UNOAL AWTHIRNTG YWT MG EKFERNEOCE JNTH PATA HAS LEUT OI DIWYT THAT THE UILLIJNOB NS THE FRIFER AFFLNCATNIO AOD NOTERFRETATNIO N IUUER MG THEIRNES NO THE HIFE THAT THE ESSEOCE IU IPNOAJAO PARATE JNLL REMANO NOTACT\n"
          ]
        }
      ]
    },
    {
      "cell_type": "code",
      "source": [
        "# Texto cifrado en una sola línea\n",
        "texto_cifrado = \"lrvmnir bpr sumvbwvr jx bpr lmiwv yjeryrkbi jx qmbm wi bpr xjvni mkd ymibrut jx irhx wi bpr riirkvr jx ymbinlmtmipw utn qmumbr dj w ipmhh but bj rhnvwdmbr bpr yjeryrkbi jx bpr qmbm mvvjudwko bj yt wkbrusurbmbwjk lmird jk xjubt trmui jx ibndt wb wi kjb mk rmit bmiq bj rashmwk rmvp yjeryrkb mkd wbi iwokwxwvmkvr mkd ijyr ynib urymwk nkrashmwkrd bj ower m vjyshrbr rashmkmbwjk jkr cjnhd pmer bj lr fnmhwxwrd mkd wkiswurd bj invp mk rabrkb bpmb pr vjnhd urmvp bpr ibmbr jx rkhwopbrkrd ywkd vmsmlhr jx urvjokwgwko ijnkdhrii ijnkd mkd ipmsrhrii ipmsr w dj kjb drry ytirhx bpr xwkmh mnbpjuwbt lnb yt rasruwrkvr cwbp qmbm pmi hrxb kj djnlb bpmb bpr xjhhjcwko wi bpr sujsru msshwvmbwjk mkd wkbrusurbmbwjk w jxxru yt bprjuwri wk bpr pjsr bpmb bpr riirkvr jx jqwkmcmk qmumbr cwhh urymwk wkbmvb\"\n",
        "\n",
        "# Emparejamiento de letras cifradas con letras en inglés basado en la frecuencia\n",
        "emparejamiento = {\n",
        "    'r': 'E', 'b': 'T', 'm': 'A', 'k': 'O', 'j': 'I', 'w': 'N', 'i': 'S', 'p': 'H',\n",
        "    'u': 'R', 'd': 'D', 'h': 'L', 'v': 'C', 'x': 'U', 'y': 'M', 'n': 'W', 's': 'F',\n",
        "    't': 'G', 'l': 'Y', 'q': 'P', 'o': 'B', 'e': 'V', 'a': 'K', 'c': 'J', 'f': 'X',\n",
        "    'g': 'Q'\n",
        "}\n",
        "\n",
        "# Reemplazos adicionales para el texto descifrado\n",
        "reemplazos_adicionales = {\n",
        "    'Y': 'B',  # Puede que necesites cambiar 'Y' por otro carácter si 'B' no encaja bien\n",
        "    'U': 'N',  # Verificar si 'U' debe ser otra letra\n",
        "    'W': 'U',  # 'W' podría estar incorrecto\n",
        "    'F': 'P',  # 'F' podría ser otro carácter\n",
        "    'N': 'I',  # 'N' parece ser 'I' en algunas partes del texto\n",
        "    'I': 'O',  # Verificar 'I' si se debe reemplazar por otro carácter\n",
        "    'O': 'N',  # Cambiar 'O' si es necesario\n",
        "}\n",
        "\n",
        "# Función para descifrar el texto usando el emparejamiento\n",
        "def descifrar_texto(texto, emparejamiento):\n",
        "    return ''.join([emparejamiento.get(letra, letra) for letra in texto])\n",
        "\n",
        "# Función para aplicar reemplazos adicionales\n",
        "def aplicar_reemplazos(texto, reemplazos):\n",
        "    return ''.join([reemplazos.get(letra, letra) for letra in texto])\n",
        "\n",
        "# Aplicar la función al texto cifrado\n",
        "texto_descifrado = descifrar_texto(texto_cifrado, emparejamiento)\n",
        "\n",
        "# Aplicar los reemplazos adicionales\n",
        "texto_modificado = aplicar_reemplazos(texto_descifrado, reemplazos_adicionales)\n",
        "\n",
        "print(texto_modificado)\n"
      ],
      "metadata": {
        "colab": {
          "base_uri": "https://localhost:8080/"
        },
        "id": "DhC0WWeJOHS_",
        "outputId": "5f9156bc-01b1-4c96-e147-ad8a32ace3fb"
      },
      "execution_count": 63,
      "outputs": [
        {
          "output_type": "stream",
          "name": "stdout",
          "text": [
            "BECAUSE THE PRACTICE ON THE BASIC MOVEMENTS ON PATA IS THE NOCUS AND MASTERG ON SELN IS THE ESSENCE ON MATSUBAGASHI RGU PARATE DO I SHALL TRG TO ELUCIDATE THE MOVEMENTS ON THE PATA ACCORDINB TO MG INTERPRETATION BASED ON NORTG GEARS ON STUDG IT IS NOT AN EASG TASP TO EKPLAIN EACH MOVEMENT AND ITS SIBNINICANCE AND SOME MUST REMAIN UNEKPLAINED TO BIVE A COMPLETE EKPLANATION ONE JOULD HAVE TO BE XUALINIED AND INSPIRED TO SUCH AN EKTENT THAT HE COULD REACH THE STATE ON ENLIBHTENED MIND CAPABLE ON RECOBNIQINB SOUNDLESS SOUND AND SHAPELESS SHAPE I DO NOT DEEM MGSELN THE NINAL AUTHORITG BUT MG EKPERIENCE JITH PATA HAS LENT NO DOUBT THAT THE NOLLOJINB IS THE PROPER APPLICATION AND INTERPRETATION I ONNER MG THEORIES IN THE HOPE THAT THE ESSENCE ON OPINAJAN PARATE JILL REMAIN INTACT\n"
          ]
        }
      ]
    },
    {
      "cell_type": "code",
      "source": [
        "#!/usr/bin/env python\n",
        "import collections, re\n",
        "\n",
        "# Texto cifrado directamente en el código\n",
        "ciphertext = \"\"\"\n",
        "lrvmnir bpr sumvbwvr jx bpr lmiwv yjeryrkbi jx qmbm wi bpr xjvni mkd ymibrut jx irhx wi bpr riirkvr jx ymbinlmtmipw utn qmumbr dj w ipmhh but bj rhnvwdmbr bpr yjeryrkbi jx bpr qmbm mvvjudwko bj yt wkbrusurbmbwjk lmird jk xjubt trmui jx ibndt wb wi kjb mk rmit bmiq bj rashmwk rmvp yjeryrkb mkd wbi iwokwxwvmkvr mkd ijyr ynib urymwk nkrashmwkrd bj ower m vjyshrbr rashmkmbwjk jkr cjnhd pmer bj lr fnmhwxwrd mkd wkiswurd bj invp mk rabrkb bpmb pr vjnhd urmvp bpr ibmbr jx rkhwopbrkrd ywkd vmsmlhr jx urvjokwgwko ijnkdhrii ijnkd mkd ipmsrhrii ipmsr w dj kjb drry ytirhx bpr xwkmh mnbpjuwbt lnb yt rasruwrkvr cwbp qmbm pmi hrxb kj djnlb bpmb bpr xjhhjcwko wi bpr sujsru msshwvmbwjk mkd wkbrusurbmbwjk w jxxru yt bprjuwri wk bpr pjsr bpmb bpr riirkvr jx jqwkmcmk qmumbr cwhh urymwk wkbmvb\n",
        "\"\"\"\n",
        "\n",
        "def get_ciphertext_letters_by_frequency(ciphertext):\n",
        "    ciphertext_nopunc = re.sub(r\"\\W+\", \"\", ciphertext)\n",
        "    letter_freqs = collections.Counter(ciphertext_nopunc)\n",
        "    return [i[0] for i in letter_freqs.most_common()]\n",
        "\n",
        "def reconstruct_key(ciphertext_letters):\n",
        "    letters_ordered_by_freq = [\"E\",\"T\",\"A\",\"O\",\"I\",\"N\",\"S\",\"R\",\"H\",\"D\",\"L\",\n",
        "        \"U\",\"C\",\"M\",\"F\",\"Y\",\"W\",\"G\",\"P\",\"B\",\"V\",\"K\",\"X\",\"Q\",\"J\",\"Z\"]\n",
        "    return list(zip(ciphertext_letters, letters_ordered_by_freq))\n",
        "\n",
        "def get_manually_tweaked_key():\n",
        "    return [\n",
        "        ('r', 'E'), ('b', 'T'), ('m', 'A'),\n",
        "        ('k', 'N'), ('j', 'O'), ('w', 'I'),\n",
        "        ('i', 'S'), ('p', 'H'), ('u', 'R'),\n",
        "        ('d', 'D'), ('h', 'L'), ('v', 'C'),\n",
        "        ('x', 'F'), ('y', 'M'), ('n', 'U'),\n",
        "        ('s', 'P'), ('t', 'Y'), ('l', 'B'),\n",
        "        ('o', 'G'), ('q', 'K'), ('a', 'X'),\n",
        "        ('c', 'W'), ('e', 'V'), ('g', 'Z'),\n",
        "        ('f', 'Q')\n",
        "    ]\n",
        "\n",
        "def decipher(ciphertext, key):\n",
        "    for x, y in key:\n",
        "        ciphertext = ciphertext.replace(x, y)\n",
        "    return ciphertext\n",
        "\n",
        "def print_ciphertext(ciphertext):\n",
        "    print(\"\\n===========\")\n",
        "    print(\"Ciphertext:\")\n",
        "    print(\"===========\")\n",
        "    print(ciphertext)\n",
        "\n",
        "def print_deciphered_plaintext(type, key, plaintext):\n",
        "    header = \"{} Statistical Key Reconstruction:\".format(type)\n",
        "    print(\"=\" * len(header), \"\\n\", header, \"\\n\", \"=\" * len(header))\n",
        "    print(\"\\n\", \"Key:\", \"\\n\")\n",
        "    key.sort(key=lambda x: x[1])\n",
        "    i = 0\n",
        "    for x, y in key:\n",
        "        print(\"{} = {},\".format(y, x), end=\" \")\n",
        "        i += 1\n",
        "        if not i % 5: print()\n",
        "    print(\"\\n\", plaintext)\n",
        "\n",
        "# Procesar el texto cifrado directamente desde la variable\n",
        "ciphertext_letters = get_ciphertext_letters_by_frequency(ciphertext)\n",
        "key = reconstruct_key(ciphertext_letters)\n",
        "print_deciphered_plaintext(\"Naive\", key, decipher(ciphertext, key))\n",
        "key = get_manually_tweaked_key()\n",
        "print_deciphered_plaintext(\"Manually Tweaked\", key, decipher(ciphertext, key))\n",
        "print(\"Q1.1.3 Answer: This was said by Shoshin Nagamine\", \"\\n\")\n"
      ],
      "metadata": {
        "colab": {
          "base_uri": "https://localhost:8080/"
        },
        "id": "DpnmZfaKREOJ",
        "outputId": "24acde68-076b-4051-ed67-7d48e7e311d2"
      },
      "execution_count": 65,
      "outputs": [
        {
          "output_type": "stream",
          "name": "stdout",
          "text": [
            "===================================== \n",
            " Naive Statistical Key Reconstruction: \n",
            " =====================================\n",
            "\n",
            " Key: \n",
            "\n",
            "A = m, B = o, C = x, D = d, E = r, \n",
            "F = n, G = l, H = u, I = j, J = g, \n",
            "K = a, L = h, M = y, N = w, O = k, \n",
            "P = q, Q = f, R = p, S = i, T = b, \n",
            "U = v, V = e, W = t, X = c, Y = s, \n",
            "\n",
            " \n",
            "GEUAFSE TRE YHAUTNUE IC TRE GASNU MIVEMEOTS IC PATA NS TRE CIUFS AOD MASTEHW IC SELC NS TRE ESSEOUE IC MATSFGAWASRN HWF PAHATE DI N SRALL THW TI ELFUNDATE TRE MIVEMEOTS IC TRE PATA AUUIHDNOB TI MW NOTEHYHETATNIO GASED IO CIHTW WEAHS IC STFDW NT NS OIT AO EASW TASP TI EKYLANO EAUR MIVEMEOT AOD NTS SNBONCNUAOUE AOD SIME MFST HEMANO FOEKYLANOED TI BNVE A UIMYLETE EKYLAOATNIO IOE XIFLD RAVE TI GE QFALNCNED AOD NOSYNHED TI SFUR AO EKTEOT TRAT RE UIFLD HEAUR TRE STATE IC EOLNBRTEOED MNOD UAYAGLE IC HEUIBONJNOB SIFODLESS SIFOD AOD SRAYELESS SRAYE N DI OIT DEEM MWSELC TRE CNOAL AFTRIHNTW GFT MW EKYEHNEOUE XNTR PATA RAS LECT OI DIFGT TRAT TRE CILLIXNOB NS TRE YHIYEH AYYLNUATNIO AOD NOTEHYHETATNIO N ICCEH MW TREIHNES NO TRE RIYE TRAT TRE ESSEOUE IC IPNOAXAO PAHATE XNLL HEMANO NOTAUT\n",
            "\n",
            "================================================ \n",
            " Manually Tweaked Statistical Key Reconstruction: \n",
            " ================================================\n",
            "\n",
            " Key: \n",
            "\n",
            "A = m, B = l, C = v, D = d, E = r, \n",
            "F = x, G = o, H = p, I = w, K = q, \n",
            "L = h, M = y, N = k, O = j, P = s, \n",
            "Q = f, R = u, S = i, T = b, U = n, \n",
            "V = e, W = c, X = a, Y = t, Z = g, \n",
            "\n",
            " \n",
            "BECAUSE THE PRACTICE OF THE BASIC MOVEMENTS OF KATA IS THE FOCUS AND MASTERY OF SELF IS THE ESSENCE OF MATSUBAYASHI RYU KARATE DO I SHALL TRY TO ELUCIDATE THE MOVEMENTS OF THE KATA ACCORDING TO MY INTERPRETATION BASED ON FORTY YEARS OF STUDY IT IS NOT AN EASY TASK TO EXPLAIN EACH MOVEMENT AND ITS SIGNIFICANCE AND SOME MUST REMAIN UNEXPLAINED TO GIVE A COMPLETE EXPLANATION ONE WOULD HAVE TO BE QUALIFIED AND INSPIRED TO SUCH AN EXTENT THAT HE COULD REACH THE STATE OF ENLIGHTENED MIND CAPABLE OF RECOGNIZING SOUNDLESS SOUND AND SHAPELESS SHAPE I DO NOT DEEM MYSELF THE FINAL AUTHORITY BUT MY EXPERIENCE WITH KATA HAS LEFT NO DOUBT THAT THE FOLLOWING IS THE PROPER APPLICATION AND INTERPRETATION I OFFER MY THEORIES IN THE HOPE THAT THE ESSENCE OF OKINAWAN KARATE WILL REMAIN INTACT\n",
            "\n",
            "Q1.1.3 Answer: This was said by Shoshin Nagamine \n",
            "\n"
          ]
        }
      ]
    }
  ]
}